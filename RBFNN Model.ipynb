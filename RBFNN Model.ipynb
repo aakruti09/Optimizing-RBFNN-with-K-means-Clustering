{
 "cells": [
  {
   "cell_type": "markdown",
   "metadata": {},
   "source": [
    "## Data Classification of non-linear pattern using Radial Basis Function Network and KMeans Clustering\n"
   ]
  },
  {
   "cell_type": "code",
   "execution_count": 1,
   "metadata": {
    "id": "cxy5ZE5-J5qr"
   },
   "outputs": [],
   "source": [
    "#Importing all the required libraries\n",
    "from matplotlib import pyplot as plt\n",
    "import numpy as np\n",
    "from sklearn.cluster import KMeans\n",
    "from sklearn.model_selection import train_test_split\n",
    "from math import *\n",
    "from numpy.linalg import norm, pinv"
   ]
  },
  {
   "cell_type": "code",
   "execution_count": 2,
   "metadata": {
    "id": "dN3Rk8H-5Uny"
   },
   "outputs": [],
   "source": [
    "# Creating the list variable for the train errors and test errors\n",
    "train_error_list = []\n",
    "test_error_list = []"
   ]
  },
  {
   "cell_type": "code",
   "execution_count": 3,
   "metadata": {
    "id": "59q_0ZKQ7euy"
   },
   "outputs": [],
   "source": [
    "class Radial_Bias_Function:\n",
    "    \n",
    "# Defining the Constructor for intializing the variable sigma and number of center points selected. \n",
    "  def __init__(self, sigma, numberOfCenterPoints):\n",
    "    self.sigma = sigma\n",
    "    self.centerList = None\n",
    "    self.numberOfCenterPoints = numberOfCenterPoints\n",
    "    self.Weights = None\n",
    "    \n",
    "# Calculating the RBF Gaussian Kernel function\n",
    "  def gaussianKernel(self, x, vi):\n",
    "    numerator = (np.linalg.norm(x-vi)**2)\n",
    "    G_i = exp((- numerator)/2 * pow(self.sigma, 2))\n",
    "    return G_i\n",
    "\n",
    "# Defining the activation function\n",
    "  def activationFunction(self, inputVector):\n",
    "    Vector_G = np.zeros((inputVector.shape[0], self.numberOfCenterPoints), float)\n",
    "    for centerIndex, center in enumerate(self.centerList):\n",
    "      for xi, x in enumerate(inputVector):\n",
    "        Vector_G[xi, centerIndex] = self.gaussianKernel(x, center)\n",
    "    return Vector_G\n",
    "\n",
    "# Defining the function used for calculating the output values\n",
    "  def calculateOutput(self, inputVector):\n",
    "    Vector_G = self.activationFunction(inputVector)\n",
    "    O = np.dot(Vector_G, self.Weights)\n",
    "    return O\n",
    "\n",
    "# Defining the RBF training function and calculating the weights\n",
    "  def training(self, inputVector, O):\n",
    "    self.centerList = inputVector\n",
    "    Vector_G = self.activationFunction(inputVector)\n",
    "    self.Weights = np.dot(np.linalg.pinv(Vector_G), O)\n",
    "\n",
    "# Calculation of the error using mean square error method\n",
    "  def errorCalculation(self, true_output, calculate_output):\n",
    "    dif_vec = []\n",
    "    for i in range(len(true_output)):\n",
    "      diff = true_output[i] - calculate_output[i]\n",
    "      diff_sq = pow(diff, 2)\n",
    "      dif_vec.append(diff_sq)\n",
    "    return sum(dif_vec)/len(true_output)\n"
   ]
  },
  {
   "cell_type": "code",
   "execution_count": 4,
   "metadata": {
    "id": "RpEtSEsGLsHg"
   },
   "outputs": [],
   "source": [
    "# Generating the input dataset by using the function given in the problem\n",
    "dataSet = []\n",
    "for i in range(0, 21):\n",
    "  for j in range(0,21):\n",
    "    dataSet.append([(-2 + (0.2 * i)), (-2 + (0.2 * j))])\n"
   ]
  },
  {
   "cell_type": "code",
   "execution_count": 5,
   "metadata": {
    "id": "XrliR3iRPenN"
   },
   "outputs": [],
   "source": [
    "# Calculating the corresponding dataset labels for the generated input dataset\n",
    "dataSetLabel = []\n",
    "for xi, xj in dataSet:\n",
    "  if (pow(xi,2) + pow(xj,2)) > 1:\n",
    "    dataSetLabel.append(-1)\n",
    "  else:\n",
    "    dataSetLabel.append(1)\n",
    "\n",
    "# Spiliting the dataset into training set and test set\n",
    "trainSet, testSet, trainLabelSet, testLabelSet = train_test_split(np.array(dataSet), dataSetLabel, test_size=0.2, random_state=99)"
   ]
  },
  {
   "cell_type": "code",
   "execution_count": 6,
   "metadata": {
    "colab": {
     "base_uri": "https://localhost:8080/"
    },
    "id": "lzM-ldz4LsE_",
    "outputId": "d64c4736-8bc3-4caf-a10c-28c086e167a3"
   },
   "outputs": [
    {
     "name": "stdout",
     "output_type": "stream",
     "text": [
      "Mean square error for sigma  0.1 of the training dataset 11.523283764042636 %\n",
      "Mean square error for sigma  0.1 of the test dataset 14.636412128973541 %\n",
      "\n",
      "\n",
      "Mean square error for sigma  0.2 of the training dataset 10.463893645249879 %\n",
      "Mean square error for sigma  0.2 of the test dataset 13.411251192106707 %\n",
      "\n",
      "\n",
      "Mean square error for sigma  0.4 of the training dataset 8.696944207291711 %\n",
      "Mean square error for sigma  0.4 of the test dataset 12.597267011578165 %\n",
      "\n",
      "\n",
      "Mean square error for sigma  0.6 of the training dataset 6.018173495422213 %\n",
      "Mean square error for sigma  0.6 of the test dataset 11.967068437853628 %\n",
      "\n",
      "\n",
      "Mean square error for sigma  0.8 of the training dataset 5.39897206833137 %\n",
      "Mean square error for sigma  0.8 of the test dataset 16.17479499310535 %\n",
      "\n",
      "\n"
     ]
    }
   ],
   "source": [
    "# Intializing the sigma values\n",
    "Sigma = [0.1,0.2,0.4,0.6,0.8]\n",
    "for sigma_value in Sigma:\n",
    "  rbf = Radial_Bias_Function(sigma_value, len(dataSet))\n",
    "  rbf.training(trainSet, trainLabelSet)\n",
    "  n = rbf.calculateOutput(trainSet)\n",
    "  train_error = rbf.errorCalculation(trainLabelSet,n)\n",
    "  train_error_list.append(train_error)\n",
    "  test_output = rbf.calculateOutput(testSet)\n",
    "  test_error = rbf.errorCalculation(testLabelSet, test_output)\n",
    "  test_error_list.append(test_error)\n",
    "\n",
    "  print('Mean square error for sigma ', sigma_value, 'of the training dataset', train_error*100, '%')\n",
    "  print('Mean square error for sigma ', sigma_value, 'of the test dataset', test_error*100, '%')\n",
    "  print('')\n",
    "  print('')"
   ]
  },
  {
   "cell_type": "code",
   "execution_count": 7,
   "metadata": {
    "colab": {
     "base_uri": "https://localhost:8080/",
     "height": 312
    },
    "id": "jyyWK_Q7aH0f",
    "outputId": "db478d27-6802-4ad0-cc25-40e4c9b12c87"
   },
   "outputs": [
    {
     "data": {
      "text/plain": [
       "Text(0.5, 1.0, 'Mean sqaure error accuracy of the training dataset')"
      ]
     },
     "execution_count": 7,
     "metadata": {},
     "output_type": "execute_result"
    },
    {
     "data": {
      "image/png": "[encoded data removed]",
      "text/plain": [
       "<Figure size 432x288 with 1 Axes>"
      ]
     },
     "metadata": {
      "needs_background": "light"
     },
     "output_type": "display_data"
    }
   ],
   "source": [
    "plt.plot(Sigma,train_error_list)\n",
    "plt.xlabel(\" Sigma Values\")\n",
    "plt.ylabel(\" Mean square error\")\n",
    "plt.title(\"Mean sqaure error accuracy of the training dataset\")"
   ]
  },
  {
   "cell_type": "markdown",
   "metadata": {
    "id": "NxC1UFX3Ahum"
   },
   "source": [
    "#### **This graph shows that as sigma value (spread operator) increases, the mean square error of the training dataset decreases**"
   ]
  },
  {
   "cell_type": "code",
   "execution_count": 8,
   "metadata": {
    "colab": {
     "base_uri": "https://localhost:8080/",
     "height": 312
    },
    "id": "KakXH2fmLsAj",
    "outputId": "7fc2b695-7ff1-40a5-f8e4-3d191292afdc"
   },
   "outputs": [
    {
     "data": {
      "text/plain": [
       "Text(0.5, 1.0, 'Mean sqaure error accuracy of the testing dataset')"
      ]
     },
     "execution_count": 8,
     "metadata": {},
     "output_type": "execute_result"
    },
    {
     "data": {
      "image/png": "[encoded data removed]",
      "text/plain": [
       "<Figure size 432x288 with 1 Axes>"
      ]
     },
     "metadata": {
      "needs_background": "light"
     },
     "output_type": "display_data"
    }
   ],
   "source": [
    "plt.plot(Sigma,test_error_list)\n",
    "plt.xlabel(\" Sigma Values\")\n",
    "plt.ylabel(\" Tabulated mean square error\")\n",
    "plt.title(\"Mean sqaure error accuracy of the testing dataset\")"
   ]
  },
  {
   "cell_type": "markdown",
   "metadata": {
    "id": "gRl7GxdvAepH"
   },
   "source": [
    "#### **From the above graph, we observed that mean square error of test dataset also decreases as the sigma values increases. But after the sigma value is 0.6, mean square error increases dramatically which indicates that model is getting overfitted.**"
   ]
  },
  {
   "cell_type": "markdown",
   "metadata": {
    "id": "bsQKzMhuCPcp"
   },
   "source": [
    "### Part 2 a) Randomly select the 150 centers from the input data"
   ]
  },
  {
   "cell_type": "code",
   "execution_count": 9,
   "metadata": {
    "id": "9Me7Wm9-CNew"
   },
   "outputs": [],
   "source": [
    "class Radial_Bias_Function:\n",
    "    \n",
    "# Constructor used to intialize the variable sigma and number of center points selected. \n",
    "  def __init__(self, sigma, numberOfCenterPoints):\n",
    "    self.sigma = sigma\n",
    "    self.centerList = None\n",
    "    self.numberOfCenterPoints = numberOfCenterPoints\n",
    "    self.Weights = None\n",
    "\n",
    "# Calculating the RBF Gaussian Kernel function\n",
    "  def gaussianKernel(self, x, vi):\n",
    "    numerator = (np.linalg.norm(x-vi)**2)\n",
    "    G_i = exp((- numerator)/2 * pow(self.sigma, 2))\n",
    "    return G_i\n",
    "\n",
    "# Defining the activation function\n",
    "  def activationFunction(self, inputVector):\n",
    "    Vector_G = np.zeros((inputVector.shape[0], self.numberOfCenterPoints), float)\n",
    "    for centerIndex, center in enumerate(self.centerList):\n",
    "      for xi, x in enumerate(inputVector):\n",
    "        Vector_G[xi, centerIndex] = self.gaussianKernel(x, center)\n",
    "    return Vector_G\n",
    "\n",
    "# Defining the function used for calculating the output values\n",
    "  def calculateOutput(self, inputVector):\n",
    "    Vector_G = self.activationFunction(inputVector)\n",
    "    O = np.dot(Vector_G, self.Weights)\n",
    "    return O\n",
    "\n",
    "# Random selecting the center points from the input data.\n",
    "  def randomlySelectCenterPoints(self, inputVector):\n",
    "    rand_poit = np.random.choice(len(inputVector), self.numberOfCenterPoints)\n",
    "    center_list = inputVector[rand_poit]\n",
    "    return center_list\n",
    "\n",
    "# Defining the RBF training function and calculating the weights\n",
    "  def training(self, inputVector, O):\n",
    "    self.centerList = self.randomlySelectCenterPoints(inputVector)\n",
    "    Vector_G = self.activationFunction(inputVector)\n",
    "    self.Weights = np.dot(np.linalg.pinv(Vector_G), O)\n",
    "\n",
    "# Calculation of the error using mean square error method\n",
    "  def errorCalculation(self, true_output, calculate_output):\n",
    "    dif_vec = []\n",
    "    for i in range(len(true_output)):\n",
    "      diff = true_output[i] - calculate_output[i]\n",
    "      diff_sq = pow(diff, 2)\n",
    "      dif_vec.append(diff_sq)\n",
    "    return sum(dif_vec)/len(true_output)\n"
   ]
  },
  {
   "cell_type": "code",
   "execution_count": 10,
   "metadata": {
    "colab": {
     "base_uri": "https://localhost:8080/"
    },
    "id": "67hNVWWR8gB6",
    "outputId": "12dbe875-9cdb-4771-e39a-82423570483d"
   },
   "outputs": [
    {
     "name": "stdout",
     "output_type": "stream",
     "text": [
      "Mean square error for 150 center of the training dataset 6.263678720927636 %\n",
      "Mean square error for 150 center of the test dataset 10.013251592607219 %\n",
      "\n",
      "\n"
     ]
    }
   ],
   "source": [
    "# Total number of center points is 150\n",
    "rbf = Radial_Bias_Function(0.6, 150)\n",
    "rbf.training(trainSet, trainLabelSet)\n",
    "n = rbf.calculateOutput(trainSet)\n",
    "train_error = rbf.errorCalculation(trainLabelSet,n)\n",
    "test_output = rbf.calculateOutput(testSet)\n",
    "test_error = rbf.errorCalculation(testLabelSet, test_output)\n",
    "\n",
    "print('Mean square error for 150 center of the training dataset', train_error*100, '%')\n",
    "print('Mean square error for 150 center of the test dataset', test_error*100, '%')\n",
    "print('')\n",
    "print('')"
   ]
  },
  {
   "cell_type": "markdown",
   "metadata": {
    "id": "mOGDjab1EYTW"
   },
   "source": [
    "### **Part 2 b) Using K-Means algorithm to find the center**"
   ]
  },
  {
   "cell_type": "code",
   "execution_count": 11,
   "metadata": {
    "id": "4pBS-01AElBr"
   },
   "outputs": [],
   "source": [
    "class Radial_Bias_Function:\n",
    "    \n",
    "# Defining the Constructor for intializing the variable sigma and number of center points selected. \n",
    "  def __init__(self, sigma, numberOfCenterPoints):\n",
    "    self.sigma = sigma\n",
    "    self.centerList = None\n",
    "    self.numberOfCenterPoints = numberOfCenterPoints\n",
    "    self.Weights = None\n",
    "\n",
    "# Calculating the RBF Gaussian Kernel function\n",
    "  def gaussianKernel(self, x, vi):\n",
    "    numerator = (np.linalg.norm(x-vi)**2)\n",
    "    G_i = exp((- numerator)/2 * pow(self.sigma, 2))\n",
    "    return G_i\n",
    "\n",
    "# Defining the activation function\n",
    "  def activationFunction(self, inputVector):\n",
    "    Vector_G = np.zeros((inputVector.shape[0], self.numberOfCenterPoints), float)\n",
    "    for centerIndex, center in enumerate(self.centerList):\n",
    "      for xi, x in enumerate(inputVector):\n",
    "        Vector_G[xi, centerIndex] = self.gaussianKernel(x, center)\n",
    "    return Vector_G\n",
    "\n",
    "# Defining the function used for calculating the output values\n",
    "  def calculateOutput(self, inputVector):\n",
    "    Vector_G = self.activationFunction(inputVector)\n",
    "    O = np.dot(Vector_G, self.Weights)\n",
    "    return O\n",
    "\n",
    "# Using K-Means algorithm for finding the centers\n",
    "  def findCenterPointsUsingKMeans(self, inputVector):\n",
    "    km = KMeans(n_clusters= self.numberOfCenterPoints , max_iter = 1)\n",
    "    km.fit(inputVector)\n",
    "    center_list = km.cluster_centers_\n",
    "    return center_list\n",
    "\n",
    "# Defining the RBF training function and calculating the weights\n",
    "  def training(self, inputVector, O):\n",
    "    self.centerList = self.findCenterPointsUsingKMeans(inputVector)\n",
    "    Vector_G = self.activationFunction(inputVector)\n",
    "    self.Weights = np.dot(np.linalg.pinv(Vector_G), O)\n",
    "\n",
    "# Error Calculation function for the calculating the error using mean square error method\n",
    "  def errorCalculation(self, true_output, calculate_output):\n",
    "    dif_vec = []\n",
    "    for i in range(len(true_output)):\n",
    "      diff = true_output[i] - calculate_output[i]\n",
    "      diff_sq = pow(diff, 2)\n",
    "      dif_vec.append(diff_sq)\n",
    "    return sum(dif_vec)/len(true_output)\n"
   ]
  },
  {
   "cell_type": "code",
   "execution_count": 12,
   "metadata": {
    "colab": {
     "base_uri": "https://localhost:8080/"
    },
    "id": "SagU2jQ3FxTL",
    "outputId": "c740e6ca-c382-4cae-8596-67710a37d821"
   },
   "outputs": [
    {
     "name": "stdout",
     "output_type": "stream",
     "text": [
      "Mean square error for 150 center using KMeans of the training dataset 6.043520692072024 %\n",
      "Mean square error for 150 center using KMeans of the test dataset 11.553480404708406 %\n",
      "\n",
      "\n"
     ]
    }
   ],
   "source": [
    "# Total number of center points is 150\n",
    "rbf = Radial_Bias_Function(0.6, 150)\n",
    "rbf.training(trainSet, trainLabelSet)\n",
    "n = rbf.calculateOutput(trainSet)\n",
    "train_error = rbf.errorCalculation(trainLabelSet,n)\n",
    "test_output = rbf.calculateOutput(testSet)\n",
    "test_error = rbf.errorCalculation(testLabelSet, test_output)\n",
    "\n",
    "print('Mean square error for 150 center using KMeans of the training dataset', train_error*100, '%')\n",
    "print('Mean square error for 150 center using KMeans of the test dataset', test_error*100, '%')\n",
    "print('')\n",
    "print('')"
   ]
  },
  {
   "cell_type": "markdown",
   "metadata": {},
   "source": [
    "### Comparison of performance\n",
    "\n",
    "**Comparing kmeans approach with randomly selected 150 center points approach.**\n",
    "- In 2(a) where we randomly selected 150 center points from input, we got mean square error of 6.26% for training dataset and 10.01% for test dataset. Apparently, in 2(b) where by using kmeans we found out center points from the input, we got mean square error of 6.04% for training dataset and 11.55% for test dataset. The sigma value is considered as 0.6 in both the cases. \n",
    "- If we set sigma = 0.8 then, we can see that by selecting center points using kmeans gives better result its mean squared error for test dataset is 11.84%. Where as, for randomly selected approach is 17.29% which is much higher than kmeans approach. \n",
    "\n",
    "**Comparing first approach with all datapoints as center points with 150 datapoints as center points.**\n",
    "- So by comparing, the mean square error, we can say that the approach with all the datapoints as center points, does overfit the network. So the mean square error is low for training set. But by compraing with the second approach, where 150 points are center points, does not overfit the network. So its mean squared error is greater compared to first approach.  \n",
    "- The mean squared error for test dataset of first approach is more because of overfitting, and mean squared error for test dataset in second approach is less. Because only 150 datapoints are used as center points and the network is not overfitted. the sigma value is considered same.\n",
    "\n",
    "**References:**\n",
    "* https://towardsdatascience.com/most-effective-way-to-implement-radial-basis-function-neural-network-for-classification-problem-33c467803319\n",
    "* https://pythonmachinelearning.pro/using-neural-networks-for-regression-radial-basis-function-networks/"
   ]
  },
  {
   "cell_type": "code",
   "execution_count": null,
   "metadata": {},
   "outputs": [],
   "source": []
  }
 ],
 "metadata": {
  "colab": {
   "collapsed_sections": [],
   "name": "ECE 657 A2 Q3_v2",
   "provenance": []
  },
  "kernelspec": {
   "display_name": "Python 3",
   "language": "python",
   "name": "python3"
  },
  "language_info": {
   "codemirror_mode": {
    "name": "ipython",
    "version": 3
   },
   "file_extension": ".py",
   "mimetype": "text/x-python",
   "name": "python",
   "nbconvert_exporter": "python",
   "pygments_lexer": "ipython3",
   "version": "3.8.5"
  }
 },
 "nbformat": 4,
 "nbformat_minor": 1
}
